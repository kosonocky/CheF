{
 "cells": [
  {
   "cell_type": "code",
   "execution_count": 13,
   "metadata": {},
   "outputs": [],
   "source": [
    "import pandas as pd\n",
    "from scipy.stats import false_discovery_control\n",
    "\n",
    "\n",
    "df_1 = pd.read_csv(\"primary_label_t_test.csv\")\n",
    "df_2 = pd.read_csv(\"co-occurrence_t_test.csv\")\n",
    "\n",
    "p_vals_1 = df_1[\"p_val\"].values\n",
    "p_vals_2 = df_2[\"p_val\"].values\n",
    "\n",
    "# FDR correction\n",
    "corrected_p_vals_1 = false_discovery_control(p_vals_1)\n",
    "corrected_p_vals_2 = false_discovery_control(p_vals_2)\n",
    "\n",
    "df_1[\"corrected_p_val\"] = corrected_p_vals_1\n",
    "df_2[\"corrected_p_val\"] = corrected_p_vals_2\n",
    "\n",
    "df_1.to_csv(\"primary_label_t_test_corrected.csv\", index=False)\n",
    "df_2.to_csv(\"co-occurrence_t_test_corrected.csv\", index=False)"
   ]
  },
  {
   "cell_type": "code",
   "execution_count": 14,
   "metadata": {},
   "outputs": [
    {
     "name": "stdout",
     "output_type": "stream",
     "text": [
      "Primary label t-test\n",
      "1543\n",
      "1210\n",
      "1192\n",
      "Co-occurrence t-test\n",
      "1543\n",
      "1540\n",
      "1540\n"
     ]
    }
   ],
   "source": [
    "print(\"Primary label t-test\")\n",
    "print(len(corrected_p_vals_1))\n",
    "print(len(p_vals_1[p_vals_1 < 0.05]))\n",
    "print(len(corrected_p_vals_1[corrected_p_vals_1 < 0.05]))\n",
    "\n",
    "print(\"Co-occurrence t-test\")\n",
    "print(len(corrected_p_vals_2))\n",
    "print(len(p_vals_2[p_vals_2 < 0.05]))\n",
    "print(len(corrected_p_vals_2[corrected_p_vals_2 < 0.05]))"
   ]
  }
 ],
 "metadata": {
  "kernelspec": {
   "display_name": "chef",
   "language": "python",
   "name": "python3"
  },
  "language_info": {
   "codemirror_mode": {
    "name": "ipython",
    "version": 3
   },
   "file_extension": ".py",
   "mimetype": "text/x-python",
   "name": "python",
   "nbconvert_exporter": "python",
   "pygments_lexer": "ipython3",
   "version": "3.10.12"
  }
 },
 "nbformat": 4,
 "nbformat_minor": 2
}
