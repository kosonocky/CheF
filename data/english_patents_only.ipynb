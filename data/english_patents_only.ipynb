{
 "cells": [
  {
   "cell_type": "code",
   "execution_count": 1,
   "metadata": {},
   "outputs": [
    {
     "name": "stdout",
     "output_type": "stream",
     "text": [
      "23539913\n"
     ]
    }
   ],
   "source": [
    "# EP, US, WO only\n",
    "\n",
    "import pandas as pd\n",
    "\n",
    "df = pd.read_csv(\"CID-Patent\", sep=\"\\t\", header=None)\n",
    "df.columns = [\"CID\", \"Patent\"]\n",
    "\n",
    "# create set of all patents\n",
    "patents_set = set(df[\"Patent\"])\n",
    "print(len(patents_set))"
   ]
  },
  {
   "cell_type": "code",
   "execution_count": 2,
   "metadata": {},
   "outputs": [
    {
     "name": "stdout",
     "output_type": "stream",
     "text": [
      "32005106\n",
      "28207428\n"
     ]
    }
   ],
   "source": [
    "# count the number of unique CIDs\n",
    "print(len(set(df[\"CID\"])))\n",
    "\n",
    "# create a df with only CIDs that have less than 10 patents\n",
    "df_l10p = df.groupby(\"CID\").filter(lambda x: len(x) < 10)\n",
    "print(len(set(df_l10p[\"CID\"])))"
   ]
  },
  {
   "cell_type": "code",
   "execution_count": 3,
   "metadata": {},
   "outputs": [
    {
     "data": {
      "text/plain": [
       "0.11865850405244713"
      ]
     },
     "execution_count": 3,
     "metadata": {},
     "output_type": "execute_result"
    }
   ],
   "source": [
    "(32005106 - 28207428) / 32005106"
   ]
  },
  {
   "cell_type": "code",
   "execution_count": 2,
   "metadata": {},
   "outputs": [],
   "source": [
    "with open(\"patents_set.txt\", \"w\") as f:\n",
    "    for patent in patents_set:\n",
    "        f.write(patent + \"\\n\")"
   ]
  },
  {
   "cell_type": "code",
   "execution_count": 3,
   "metadata": {},
   "outputs": [
    {
     "name": "stdout",
     "output_type": "stream",
     "text": [
      "9103241\n",
      "5018839\n"
     ]
    }
   ],
   "source": [
    "# create set of all patents with EP, US, WO\n",
    "patents_EP_US_WO = set()\n",
    "patents_US = set()\n",
    "for patent in patents_set:\n",
    "    if patent.startswith(\"EP\") or patent.startswith(\"US\") or patent.startswith(\"WO\"):\n",
    "        patents_EP_US_WO.add(patent)\n",
    "    if patent.startswith(\"US\"):\n",
    "        patents_US.add(patent)\n",
    "\n",
    "print(len(patents_EP_US_WO))\n",
    "print(len(patents_US))\n",
    "\n",
    "with open(\"patents_set_EP_US_WO.txt\", \"w\") as f:\n",
    "    for patent in patents_EP_US_WO:\n",
    "        f.write(patent + \"\\n\")\n",
    "\n",
    "with open(\"patents_set_US.txt\", \"w\") as f:\n",
    "    for patent in patents_US:\n",
    "        f.write(patent + \"\\n\")"
   ]
  },
  {
   "cell_type": "code",
   "execution_count": 4,
   "metadata": {},
   "outputs": [
    {
     "name": "stdout",
     "output_type": "stream",
     "text": [
      "764289118\n",
      "764289118\n",
      "764289118\n"
     ]
    }
   ],
   "source": [
    "print(len(df))\n",
    "\n",
    "# remove all patents with more than 100 patents to a CID\n",
    "df_l100p = df.groupby(\"CID\").filter(lambda x: len(x) < 100)\n",
    "print(len(df))\n",
    "\n",
    "# remove all patents with more than 10 patents to a CID\n",
    "df_l10p = df.groupby(\"CID\").filter(lambda x: len(x) < 10)\n",
    "print(len(df))"
   ]
  },
  {
   "cell_type": "code",
   "execution_count": 5,
   "metadata": {},
   "outputs": [
    {
     "name": "stdout",
     "output_type": "stream",
     "text": [
      "2920470\n",
      "1533430\n"
     ]
    }
   ],
   "source": [
    "# create set of all patents with EP, US, WO for CID with less than 100 patents\n",
    "patents_EP_US_WO_l100p = set()\n",
    "patents_US_l100p = set()\n",
    "for patent in df_l100p[\"Patent\"]:\n",
    "    if patent.startswith(\"EP\") or patent.startswith(\"US\") or patent.startswith(\"WO\"):\n",
    "        patents_EP_US_WO_l100p.add(patent)\n",
    "    if patent.startswith(\"US\"):\n",
    "        patents_US_l100p.add(patent)\n",
    "\n",
    "print(len(patents_EP_US_WO_l100p))\n",
    "print(len(patents_US_l100p))\n",
    "\n",
    "with open(\"patents_set_EP_US_WO_l100p.txt\", \"w\") as f:\n",
    "    for patent in patents_EP_US_WO_l100p:\n",
    "        f.write(patent + \"\\n\")\n",
    "\n",
    "with open(\"patents_set_US_l100p.txt\", \"w\") as f:\n",
    "    for patent in patents_US_l100p:\n",
    "        f.write(patent + \"\\n\")"
   ]
  },
  {
   "cell_type": "code",
   "execution_count": 6,
   "metadata": {},
   "outputs": [
    {
     "name": "stdout",
     "output_type": "stream",
     "text": [
      "1835816\n",
      "1012244\n"
     ]
    }
   ],
   "source": [
    "# create set of all patents with EP, US, WO for CID with less than 10 patents\n",
    "patents_EP_US_WO_l10p = set()\n",
    "patents_US_l10p = set()\n",
    "for patent in df_l10p[\"Patent\"]:\n",
    "    if patent.startswith(\"EP\") or patent.startswith(\"US\") or patent.startswith(\"WO\"):\n",
    "        patents_EP_US_WO_l10p.add(patent)\n",
    "    if patent.startswith(\"US\"):\n",
    "        patents_US_l10p.add(patent)\n",
    "\n",
    "print(len(patents_EP_US_WO_l10p))\n",
    "print(len(patents_US_l10p))\n",
    "\n",
    "with open(\"patents_set_EP_US_WO_l10p.txt\", \"w\") as f:\n",
    "    for patent in patents_EP_US_WO_l10p:\n",
    "        f.write(patent + \"\\n\")\n",
    "\n",
    "with open(\"patents_set_US_l10p.txt\", \"w\") as f:\n",
    "    for patent in patents_US_l10p:\n",
    "        f.write(patent + \"\\n\")"
   ]
  },
  {
   "cell_type": "code",
   "execution_count": 7,
   "metadata": {},
   "outputs": [],
   "source": [
    "# subset df to the various sets we have built, and save to csv\n",
    "df[df[\"Patent\"].isin(patents_EP_US_WO)].to_csv(\"CID-Patent_EP_US_WO.csv\", index=False)\n",
    "df[df[\"Patent\"].isin(patents_US)].to_csv(\"CID-Patent_US.csv\", index=False)\n",
    "df_l100p[df_l100p[\"Patent\"].isin(patents_EP_US_WO_l100p)].to_csv(\"CID-Patent_EP_US_WO_l100p.csv\", index=False)\n",
    "df_l100p[df_l100p[\"Patent\"].isin(patents_US_l100p)].to_csv(\"CID-Patent_US_l100p.csv\", index=False)\n",
    "df_l10p[df_l10p[\"Patent\"].isin(patents_EP_US_WO_l10p)].to_csv(\"CID-Patent_EP_US_WO_l10p.csv\", index=False)\n",
    "df_l10p[df_l10p[\"Patent\"].isin(patents_US_l10p)].to_csv(\"CID-Patent_US_l10p.csv\", index=False)"
   ]
  },
  {
   "cell_type": "code",
   "execution_count": 8,
   "metadata": {},
   "outputs": [
    {
     "name": "stdout",
     "output_type": "stream",
     "text": [
      "30759459\n",
      "23919906\n",
      "30477903\n",
      "23639761\n",
      "26983978\n",
      "20200905\n"
     ]
    }
   ],
   "source": [
    "# count how many unique CIDs are in each df\n",
    "df_tmp = pd.read_csv(\"CID-Patent_EP_US_WO.csv\")\n",
    "print(len(set(df_tmp[\"CID\"])))\n",
    "df_tmp = pd.read_csv(\"CID-Patent_US.csv\")\n",
    "print(len(set(df_tmp[\"CID\"])))\n",
    "df_tmp = pd.read_csv(\"CID-Patent_EP_US_WO_l100p.csv\")\n",
    "print(len(set(df_tmp[\"CID\"])))\n",
    "df_tmp = pd.read_csv(\"CID-Patent_US_l100p.csv\")\n",
    "print(len(set(df_tmp[\"CID\"])))\n",
    "df_tmp = pd.read_csv(\"CID-Patent_EP_US_WO_l10p.csv\")\n",
    "print(len(set(df_tmp[\"CID\"])))\n",
    "df_tmp = pd.read_csv(\"CID-Patent_US_l10p.csv\")\n",
    "print(len(set(df_tmp[\"CID\"])))\n"
   ]
  }
 ],
 "metadata": {
  "kernelspec": {
   "display_name": "chef",
   "language": "python",
   "name": "python3"
  },
  "language_info": {
   "codemirror_mode": {
    "name": "ipython",
    "version": 3
   },
   "file_extension": ".py",
   "mimetype": "text/x-python",
   "name": "python",
   "nbconvert_exporter": "python",
   "pygments_lexer": "ipython3",
   "version": "3.10.12"
  }
 },
 "nbformat": 4,
 "nbformat_minor": 2
}
