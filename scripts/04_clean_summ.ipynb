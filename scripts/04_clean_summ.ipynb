{
 "cells": [
  {
   "cell_type": "code",
   "execution_count": 1,
   "metadata": {},
   "outputs": [],
   "source": [
    "import pandas as pd\n",
    "from ast import literal_eval"
   ]
  },
  {
   "cell_type": "code",
   "execution_count": 2,
   "metadata": {},
   "outputs": [],
   "source": [
    "df = pd.read_csv(\"../results/surechembl_smiles_canon_chiral_randomized_patents_l10p_summarizations/surechembl_summarizations_top-100_gpt-3.5-turbo_desc-3500.csv\")\n",
    "df[\"summarizations\"] = df[\"summarizations\"].apply(literal_eval)"
   ]
  },
  {
   "cell_type": "code",
   "execution_count": 3,
   "metadata": {},
   "outputs": [],
   "source": [
    "# remove trailing punctuation\n",
    "df[\"summarizations\"] = df[\"summarizations\"].apply(lambda x: set([y.rstrip(\".,;\") for y in x]))\n",
    "\n",
    "# for each set in summarizations, remove items in set if they contain commas\n",
    "df[\"summarizations\"] = df[\"summarizations\"].apply(lambda x: set([y for y in x if \",\" not in y]))\n",
    "\n",
    "# convert to lowercase\n",
    "df[\"summarizations\"] = df[\"summarizations\"].apply(lambda x: set([y.lower() for y in x]))\n",
    "\n",
    "# remove entries of set if they are substrings of other entries in the same set\n",
    "df[\"summarizations\"] = df[\"summarizations\"].apply(lambda x: set([y for y in x if not any([y in z for z in x if y != z])]))\n",
    "\n"
   ]
  },
  {
   "cell_type": "code",
   "execution_count": 4,
   "metadata": {},
   "outputs": [],
   "source": [
    "# all_terms = set()\n",
    "# for i in df[\"summarizations\"]:\n",
    "#     all_terms.update(i)\n",
    "# # check if any entries in post_set are substrings of other entries in post_set\n",
    "# # if so, remove the substring entry\n",
    "# all_terms_parent_strings = set([y for y in all_terms if not any([y in z for z in all_terms if y != z])])\n",
    "\n",
    "# # create mapping from post_set differences to post_set_ parent terms\n",
    "# post_set_diffs = all_terms.difference(all_terms_parent_strings)\n",
    "# post_set_diffs_map = {i: [j for j in all_terms_parent_strings if i in j][0] for i in post_set_diffs}\n",
    "# # k,v pairs that differ by a trailing s\n",
    "# post_set_diffs_map_plurals = {k: v for k, v in post_set_diffs_map.items() if k+\"s\" == v}\n",
    "\n",
    "# # fix terms that should be plural\n",
    "# df[\"summarizations\"] = df[\"summarizations\"].apply(lambda x: set([post_set_diffs_map[i] if i in post_set_diffs_map.keys() else i for i in x]))"
   ]
  },
  {
   "cell_type": "code",
   "execution_count": 5,
   "metadata": {},
   "outputs": [],
   "source": [
    "# # remove pairs in post_set_diffs_map that are in post_set_diffs_map_plurals\n",
    "# post_set_diffs_map = {k: v for k, v in post_set_diffs_map.items() if k not in post_set_diffs_map_plurals.keys()}\n",
    "# # print each kv pair\n",
    "# for k, v in post_set_diffs_map.items():\n",
    "#     print(f\"{k} -> {v}\")"
   ]
  },
  {
   "cell_type": "code",
   "execution_count": 6,
   "metadata": {},
   "outputs": [],
   "source": [
    "# bad_words = {\n",
    "#     \"therapy\",\n",
    "#     \"steroisomer\",\n",
    "#     \"steroisomers\",\n",
    "#     \"diastereoisomer\",\n",
    "#     \"diastereoisomers\",\n",
    "#     \"modulator\",\n",
    "#     \"modulators\",\n",
    "#     \"pharmaceutical\",\n",
    "#     \"pharmaceuticals\",\n",
    "#     \"therapeutic\",\n",
    "#     \"therapeutics\",\n",
    "#     \"medicament\",\n",
    "#     \"medicaments\",\n",
    "# }\n",
    "\n",
    "# # remove terms if they are contained in the set of bad words\n",
    "# df[\"summarizations\"] = df[\"summarizations\"].apply(lambda x: set([y for y in x if y not in bad_words]))"
   ]
  },
  {
   "cell_type": "code",
   "execution_count": 7,
   "metadata": {},
   "outputs": [],
   "source": [
    "# create final set of terms\n",
    "all_terms = set()\n",
    "for i in df[\"summarizations\"]:\n",
    "    all_terms.update(i)"
   ]
  },
  {
   "cell_type": "code",
   "execution_count": 8,
   "metadata": {},
   "outputs": [],
   "source": [
    "df[[\"smiles\", \"patent_ids\", \"summarization_sources\", \"summarizations\"]].to_csv(\"../results/surechembl_smiles_canon_chiral_randomized_patents_l10p_summarizations/surechembl_summarizations_cleaned.csv\", index=False)\n",
    "\n",
    "# save set of all terms to file\n",
    "with open(\"../results/surechembl_smiles_canon_chiral_randomized_patents_l10p_summarizations/surechembl_summarizations_cleaned_vocab.txt\", \"w\") as f:\n",
    "    f.write(\"\\n\".join(all_terms))"
   ]
  }
 ],
 "metadata": {
  "kernelspec": {
   "display_name": "syn_can_3",
   "language": "python",
   "name": "python3"
  },
  "language_info": {
   "codemirror_mode": {
    "name": "ipython",
    "version": 3
   },
   "file_extension": ".py",
   "mimetype": "text/x-python",
   "name": "python",
   "nbconvert_exporter": "python",
   "pygments_lexer": "ipython3",
   "version": "3.10.6"
  },
  "orig_nbformat": 4
 },
 "nbformat": 4,
 "nbformat_minor": 2
}
