{
 "cells": [
  {
   "cell_type": "code",
   "execution_count": 1,
   "metadata": {},
   "outputs": [],
   "source": [
    "import pandas as pd\n",
    "from ast import literal_eval"
   ]
  },
  {
   "cell_type": "code",
   "execution_count": 2,
   "metadata": {},
   "outputs": [],
   "source": [
    "df = pd.read_csv(\"../results/surechembl_smiles_canon_chiral_randomized_patents_l10p_summarizations/surechembl_summarizations_top-100_gpt-3.5-turbo_desc-3500_1.csv\")\n",
    "# df = pd.read_csv(\"../results/surechembl_smiles_canon_chiral_randomized_patents_l10p_summarizations/test_set/surechembl_summarizations_top-200_gpt-3.5-turbo_desc-3500_1.csv\")\n",
    "# df2 = pd.read_csv(\"../data/surechembl_smiles_canon_chiral_randomized_patents_l10p_noNA.csv\")"
   ]
  },
  {
   "cell_type": "code",
   "execution_count": 3,
   "metadata": {},
   "outputs": [],
   "source": [
    "df[\"summarization_sources\"] = df[\"summarization_sources\"].apply(literal_eval)"
   ]
  },
  {
   "cell_type": "code",
   "execution_count": 4,
   "metadata": {},
   "outputs": [],
   "source": [
    "# df['summarization_sources'] contains a dictionary of sources and labels\n",
    "# convert {k:v, k:v} to [[k,v], [k,v]] so that it can be converted to a dataframe\n",
    "df_ = df.copy()\n",
    "df_['summarization_sources'] = df_['summarization_sources'].apply(lambda x: [[k,v] for k,v in x.items()])"
   ]
  },
  {
   "cell_type": "code",
   "execution_count": 5,
   "metadata": {},
   "outputs": [],
   "source": [
    "# explode summarization_sources\n",
    "df_ = df_.explode('summarization_sources')"
   ]
  },
  {
   "cell_type": "code",
   "execution_count": 6,
   "metadata": {},
   "outputs": [],
   "source": [
    "df_['source'] = df_['summarization_sources'].apply(lambda x: x[0])\n",
    "df_['label'] = df_['summarization_sources'].apply(lambda x: x[1])"
   ]
  },
  {
   "cell_type": "code",
   "execution_count": 7,
   "metadata": {},
   "outputs": [],
   "source": [
    "def summarizations_to_str(summarizations):\n",
    "    \"\"\"\n",
    "    Converts the GPT summarization to a string of a set that removed duplicates.\n",
    "\n",
    "    Parameters:\n",
    "    -----------\n",
    "    summarizations : dict\n",
    "        Dictionary of patent IDs to patent summarizations. Format is {patent_id: summarization}.\n",
    "\n",
    "    Returns:\n",
    "    --------\n",
    "    str\n",
    "        String of a set that removed duplicates.\n",
    "    \n",
    "    \"\"\"\n",
    "    # split on ' / '\n",
    "    s_list = summarizations.split(' / ')\n",
    "    # remove empty strings and 'NA', and \"API REQUEST ERROR\"\n",
    "    s_list = [s for s in s_list if s not in ['', 'NA', 'API REQUEST ERROR']]\n",
    "    return str(set(s_list))"
   ]
  },
  {
   "cell_type": "code",
   "execution_count": 8,
   "metadata": {},
   "outputs": [],
   "source": [
    "df_[\"label\"] = df_[\"label\"].apply(summarizations_to_str)\n"
   ]
  },
  {
   "cell_type": "code",
   "execution_count": 9,
   "metadata": {},
   "outputs": [],
   "source": [
    "df_[\"label\"] = df_[\"label\"].apply(literal_eval)"
   ]
  },
  {
   "cell_type": "code",
   "execution_count": 10,
   "metadata": {},
   "outputs": [],
   "source": [
    "df_ = df_.explode('label')"
   ]
  },
  {
   "cell_type": "code",
   "execution_count": 11,
   "metadata": {},
   "outputs": [],
   "source": [
    "df_[[\"cid\", \"source\", \"label\"]].to_csv(\"rand_100_cid_source_label_valid.csv\", index=False)"
   ]
  }
 ],
 "metadata": {
  "kernelspec": {
   "display_name": "syn_can_3",
   "language": "python",
   "name": "python3"
  },
  "language_info": {
   "codemirror_mode": {
    "name": "ipython",
    "version": 3
   },
   "file_extension": ".py",
   "mimetype": "text/x-python",
   "name": "python",
   "nbconvert_exporter": "python",
   "pygments_lexer": "ipython3",
   "version": "3.10.6"
  },
  "orig_nbformat": 4
 },
 "nbformat": 4,
 "nbformat_minor": 2
}
