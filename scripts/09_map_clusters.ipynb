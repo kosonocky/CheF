{
 "cells": [
  {
   "cell_type": "code",
   "execution_count": 1,
   "metadata": {},
   "outputs": [],
   "source": [
    "import pandas as pd\n",
    "from ast import literal_eval"
   ]
  },
  {
   "cell_type": "code",
   "execution_count": 2,
   "metadata": {},
   "outputs": [],
   "source": [
    "df = pd.read_pickle(\"../results/schembl_summs_v3_alg_cleaned_labels.pkl\")"
   ]
  },
  {
   "cell_type": "code",
   "execution_count": 3,
   "metadata": {},
   "outputs": [],
   "source": [
    "vocab_df = pd.read_csv(\"../results/schembl_summs_v4_vocab_gpt_cleaned_eps_0.340_diff_20030_clusters_errors_fixed.csv\")\n",
    "# remove row with API REQUEST ERROR\n",
    "vocab_df = vocab_df[vocab_df[\"gpt_cleaned_labels\"] != \"API REQUEST ERROR\"]"
   ]
  },
  {
   "cell_type": "code",
   "execution_count": 4,
   "metadata": {},
   "outputs": [],
   "source": [
    "# make each element in original_clustered_labels its own row, repeating the gpt_cleaned_labels\n",
    "vocab_df = vocab_df.assign(original_clustered_labels=vocab_df['original_clustered_labels'].str.split(',')).explode('original_clustered_labels')\n",
    "vocab_df = vocab_df.reset_index()\n",
    "# convert to dictionary\n",
    "vocab_dict = dict(zip(vocab_df[\"original_clustered_labels\"].tolist(), vocab_df[\"gpt_cleaned_labels\"].tolist()))"
   ]
  },
  {
   "cell_type": "code",
   "execution_count": 6,
   "metadata": {},
   "outputs": [],
   "source": [
    "df[\"summarizations\"] = df[\"summarizations\"].map(set)"
   ]
  },
  {
   "cell_type": "code",
   "execution_count": 10,
   "metadata": {},
   "outputs": [],
   "source": [
    "# map vocab_dict to each value in summarizations, ignoring when the value is not in vocab_dict and defaulting to the original value\n",
    "df['summarizations'] = df['summarizations'].map(lambda x: [vocab_dict.get(i, i) for i in x])"
   ]
  },
  {
   "cell_type": "code",
   "execution_count": 12,
   "metadata": {},
   "outputs": [
    {
     "data": {
      "text/plain": [
       "Index(['smiles', 'cid', 'patent_ids', 'summarization_sources',\n",
       "       'summarizations'],\n",
       "      dtype='object')"
      ]
     },
     "execution_count": 12,
     "metadata": {},
     "output_type": "execute_result"
    }
   ],
   "source": [
    "df.columns"
   ]
  },
  {
   "cell_type": "code",
   "execution_count": 15,
   "metadata": {},
   "outputs": [],
   "source": [
    "df[[\"smiles\", \"cid\", \"patent_ids\", \"summarizations\"]].to_csv(\"../results/schembl_summs_v4_gpt_cleaned_eps_0.340_diff_20030_final.csv\")"
   ]
  }
 ],
 "metadata": {
  "kernelspec": {
   "display_name": "chef",
   "language": "python",
   "name": "python3"
  },
  "language_info": {
   "codemirror_mode": {
    "name": "ipython",
    "version": 3
   },
   "file_extension": ".py",
   "mimetype": "text/x-python",
   "name": "python",
   "nbconvert_exporter": "python",
   "pygments_lexer": "ipython3",
   "version": "3.10.12"
  },
  "orig_nbformat": 4
 },
 "nbformat": 4,
 "nbformat_minor": 2
}
