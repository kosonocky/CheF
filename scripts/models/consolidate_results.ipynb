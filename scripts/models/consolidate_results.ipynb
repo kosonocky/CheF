{
 "cells": [
  {
   "cell_type": "code",
   "execution_count": 1,
   "metadata": {},
   "outputs": [],
   "source": [
    "import os\n",
    "from pathlib import Path\n",
    "import pandas as pd"
   ]
  },
  {
   "cell_type": "code",
   "execution_count": 28,
   "metadata": {},
   "outputs": [],
   "source": [
    "# for each task in \"model_results\"\n",
    "# for each data type in task\n",
    "# for each model in data type\n",
    "# read in metrics.txt to a df\n",
    "\n",
    "df = pd.DataFrame()\n",
    "_dir = Path(\"model_results\")\n",
    "for path_task in _dir.iterdir():\n",
    "    for path_datatype in path_task.iterdir():\n",
    "        for path_model in path_datatype.iterdir():\n",
    "            metrics_path = path_model / \"metrics.txt\"\n",
    "            if metrics_path.exists():\n",
    "                sub_df = pd.DataFrame()\n",
    "                task = path_task.name\n",
    "                datatype = path_datatype.name\n",
    "                model = path_model.name\n",
    "                with open(metrics_path) as f:\n",
    "                    # convert to dict\n",
    "                    metrics = {}\n",
    "                    for line in f:\n",
    "                        (key, val) = line.split(\": \")\n",
    "                        metrics[key] = val.strip()\n",
    "\n",
    "                # add to df\n",
    "                sub_df[\"task\"] = [task]\n",
    "                sub_df[\"datatype\"] = [datatype]\n",
    "                sub_df[\"model\"] = [model]\n",
    "                sub_df[\"ground_truth_p\"] = [metrics[\"Ground Truth P\"]]\n",
    "                sub_df[\"ground_truth_n\"] = [metrics[\"Ground Truth N\"]]\n",
    "                sub_df[\"mean_roc_auc\"] = [metrics[\"Mean ROC AUC\"]]\n",
    "                sub_df[\"std_roc_auc\"] = [metrics[\"Std ROC AUC\"]]\n",
    "                sub_df[\"mean_pr_auc\"] = [metrics[\"Mean PR AUC\"]]\n",
    "                sub_df[\"std_pr_auc\"] = [metrics[\"Std PR AUC\"]]\n",
    "                df = pd.concat([df, sub_df], ignore_index=True)\n"
   ]
  },
  {
   "cell_type": "code",
   "execution_count": 30,
   "metadata": {},
   "outputs": [],
   "source": [
    "df.to_csv(\"model_results_stats.csv\", index=False)"
   ]
  }
 ],
 "metadata": {
  "kernelspec": {
   "display_name": "chef",
   "language": "python",
   "name": "python3"
  },
  "language_info": {
   "codemirror_mode": {
    "name": "ipython",
    "version": 3
   },
   "file_extension": ".py",
   "mimetype": "text/x-python",
   "name": "python",
   "nbconvert_exporter": "python",
   "pygments_lexer": "ipython3",
   "version": "3.10.12"
  },
  "orig_nbformat": 4
 },
 "nbformat": 4,
 "nbformat_minor": 2
}
