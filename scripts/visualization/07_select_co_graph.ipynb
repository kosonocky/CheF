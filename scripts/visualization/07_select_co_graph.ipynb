{
 "cells": [
  {
   "cell_type": "code",
   "execution_count": 2,
   "metadata": {},
   "outputs": [],
   "source": [
    "import pandas as pd"
   ]
  },
  {
   "cell_type": "code",
   "execution_count": 21,
   "metadata": {},
   "outputs": [],
   "source": [
    "df = pd.read_csv(\"gephi_graphs/graph_data.csv\")"
   ]
  },
  {
   "cell_type": "code",
   "execution_count": 24,
   "metadata": {},
   "outputs": [],
   "source": [
    "from collections import Counter\n",
    "from ast import literal_eval\n",
    "counter = Counter()\n",
    "\n",
    "df_summs = pd.read_csv('../../results/schembl_summs_v5_final.csv')\n",
    "df_summs = df_summs['summarizations'].apply(literal_eval)\n",
    "# count each label in summarizations\n",
    "for i in range(len(df_summs)):\n",
    "    counter.update(df_summs[i])"
   ]
  },
  {
   "cell_type": "code",
   "execution_count": 25,
   "metadata": {},
   "outputs": [],
   "source": [
    "df[\"global_count\"] = df['target'].apply(lambda x: counter[x])"
   ]
  },
  {
   "cell_type": "code",
   "execution_count": 31,
   "metadata": {},
   "outputs": [
    {
     "data": {
      "text/plain": [
       "array(['ns', 'hepatitis', 'c', 'protease', 'replication', 'viral',\n",
       "       'polymerase', 'infection', 'virus', 'nucleoside'], dtype=object)"
      ]
     },
     "execution_count": 31,
     "metadata": {},
     "output_type": "execute_result"
    }
   ],
   "source": [
    "# if df[\"target\"] == \"cb1\", switch target and source values\n",
    "label_of_interest = \"hcv\"\n",
    "df.loc[df[\"target\"] == label_of_interest, [\"target\", \"source\"]] = df.loc[df[\"target\"] == label_of_interest, [\"source\", \"target\"]].values\n",
    "df.loc[df[\"source\"] == label_of_interest].loc[df[\"global_count\"] < 2000].sort_values(by=\"weight\", ascending=False).head(10)[\"target\"].values"
   ]
  }
 ],
 "metadata": {
  "kernelspec": {
   "display_name": "chef",
   "language": "python",
   "name": "python3"
  },
  "language_info": {
   "codemirror_mode": {
    "name": "ipython",
    "version": 3
   },
   "file_extension": ".py",
   "mimetype": "text/x-python",
   "name": "python",
   "nbconvert_exporter": "python",
   "pygments_lexer": "ipython3",
   "version": "3.10.12"
  },
  "orig_nbformat": 4
 },
 "nbformat": 4,
 "nbformat_minor": 2
}
