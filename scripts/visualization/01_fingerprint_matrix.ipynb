{
 "cells": [
  {
   "cell_type": "code",
   "execution_count": 1,
   "metadata": {},
   "outputs": [],
   "source": [
    "import pandas as pd\n",
    "from rdkit import Chem"
   ]
  },
  {
   "cell_type": "code",
   "execution_count": 2,
   "metadata": {},
   "outputs": [],
   "source": [
    "with open(\"../../results/schembl_summs_v4_gpt_cleaned_eps_0.340_diff_20030_final.csv\", 'r') as f:\n",
    "    df = pd.read_csv(f)"
   ]
  },
  {
   "cell_type": "code",
   "execution_count": 3,
   "metadata": {},
   "outputs": [
    {
     "name": "stderr",
     "output_type": "stream",
     "text": [
      "[09:34:02] WARNING: not removing hydrogen atom without neighbors\n",
      "[09:34:27] WARNING: not removing hydrogen atom without neighbors\n",
      "[09:35:55] WARNING: not removing hydrogen atom without neighbors\n",
      "[09:36:58] WARNING: not removing hydrogen atom without neighbors\n",
      "[09:37:13] WARNING: not removing hydrogen atom without neighbors\n",
      "[09:37:27] WARNING: not removing hydrogen atom without neighbors\n",
      "[09:37:51] WARNING: not removing hydrogen atom without neighbors\n",
      "[09:38:19] WARNING: not removing hydrogen atom without neighbors\n",
      "[09:38:31] WARNING: not removing hydrogen atom without neighbors\n",
      "[09:38:49] WARNING: not removing hydrogen atom without neighbors\n",
      "[09:39:29] WARNING: not removing hydrogen atom without neighbors\n",
      "[09:39:38] WARNING: not removing hydrogen atom without neighbors\n"
     ]
    }
   ],
   "source": [
    "df[\"fingerprint\"] = df[\"smiles\"].apply(lambda x: Chem.RDKFingerprint(Chem.MolFromSmiles(x)))\n",
    "df.to_pickle(\"schembl_summs_v4_final_with_fingerprint.pkl\")"
   ]
  }
 ],
 "metadata": {
  "kernelspec": {
   "display_name": "chef",
   "language": "python",
   "name": "python3"
  },
  "language_info": {
   "codemirror_mode": {
    "name": "ipython",
    "version": 3
   },
   "file_extension": ".py",
   "mimetype": "text/x-python",
   "name": "python",
   "nbconvert_exporter": "python",
   "pygments_lexer": "ipython3",
   "version": "3.10.12"
  },
  "orig_nbformat": 4
 },
 "nbformat": 4,
 "nbformat_minor": 2
}
