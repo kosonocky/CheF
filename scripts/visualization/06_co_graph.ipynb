{
 "cells": [
  {
   "cell_type": "code",
   "execution_count": 2,
   "metadata": {},
   "outputs": [],
   "source": [
    "import pandas as pd\n",
    "import numpy as np\n",
    "from ast import literal_eval"
   ]
  },
  {
   "cell_type": "code",
   "execution_count": 3,
   "metadata": {},
   "outputs": [],
   "source": [
    "df = pd.read_csv(\"05_co_counter.csv\")"
   ]
  },
  {
   "cell_type": "code",
   "execution_count": 4,
   "metadata": {},
   "outputs": [],
   "source": [
    "df = df.rename(columns={\"Unnamed: 0\": \"node_pair\", \"0\": \"weight\"})"
   ]
  },
  {
   "cell_type": "code",
   "execution_count": 5,
   "metadata": {},
   "outputs": [],
   "source": [
    "df[\"node_pair\"] = df[\"node_pair\"].apply(literal_eval)\n",
    "df[\"node_1\"] = df[\"node_pair\"].apply(lambda x: x[0])\n",
    "df[\"node_2\"] = df[\"node_pair\"].apply(lambda x: x[1])\n",
    "\n"
   ]
  },
  {
   "cell_type": "code",
   "execution_count": 6,
   "metadata": {},
   "outputs": [],
   "source": [
    "df_piv = df.pivot(index=\"node_2\", columns=\"node_1\", values=\"weight\")\n",
    "df_piv = df_piv.fillna(0)\n",
    "df_piv = df_piv.astype(int)\n",
    "\n",
    "arr = df_piv.to_numpy()\n",
    "# convert to array\n",
    "arr = np.tril(arr)\n",
    "\n",
    "# place arr back in df_piv\n",
    "df_piv = pd.DataFrame(arr, columns=df_piv.columns, index=df_piv.index)\n",
    "\n",
    "\n"
   ]
  },
  {
   "cell_type": "code",
   "execution_count": 7,
   "metadata": {},
   "outputs": [],
   "source": [
    "edges = []\n",
    "# iterate through lower triangle of df_piv and add edges to edges\n",
    "for i in range(len(df_piv.columns)):\n",
    "    for j in range(len(df_piv.index)):\n",
    "        if df_piv.iloc[j, i] > 0:\n",
    "            start = df_piv.columns[i]\n",
    "            end = df_piv.index[j]\n",
    "            weight = df_piv.iloc[j, i]\n",
    "            if start.isnumeric():\n",
    "                start = int(start)\n",
    "            if end.isnumeric():\n",
    "                end = int(end)\n",
    "            edges.append((start, end, int(weight)))"
   ]
  },
  {
   "cell_type": "code",
   "execution_count": 10,
   "metadata": {},
   "outputs": [],
   "source": [
    "# convert edges to csv\n",
    "df_exp = pd.DataFrame(columns=[\"source\", \"target\", \"weight\"])\n",
    "df_exp[\"source\"] = [edge[0] for edge in edges]\n",
    "df_exp[\"target\"] = [edge[1] for edge in edges]\n",
    "df_exp[\"weight\"] = [edge[2] for edge in edges]"
   ]
  },
  {
   "cell_type": "code",
   "execution_count": 11,
   "metadata": {},
   "outputs": [],
   "source": [
    "df_exp.to_csv(\"graph_data.csv\", index=False)\n",
    "# df_exp.to_csv(\"graph_data.ncol\", sep=\" \", index=False, header=False)"
   ]
  }
 ],
 "metadata": {
  "kernelspec": {
   "display_name": "chef",
   "language": "python",
   "name": "python3"
  },
  "language_info": {
   "codemirror_mode": {
    "name": "ipython",
    "version": 3
   },
   "file_extension": ".py",
   "mimetype": "text/x-python",
   "name": "python",
   "nbconvert_exporter": "python",
   "pygments_lexer": "ipython3",
   "version": "3.10.12"
  },
  "orig_nbformat": 4
 },
 "nbformat": 4,
 "nbformat_minor": 2
}
