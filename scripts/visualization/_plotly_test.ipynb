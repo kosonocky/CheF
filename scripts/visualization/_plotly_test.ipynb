{
 "cells": [
  {
   "cell_type": "code",
   "execution_count": 2,
   "metadata": {},
   "outputs": [],
   "source": [
    "import pandas as pd\n",
    "from rdkit.Chem import PandasTools\n",
    "from ast import literal_eval\n",
    "\n"
   ]
  },
  {
   "cell_type": "code",
   "execution_count": null,
   "metadata": {},
   "outputs": [],
   "source": [
    "\n",
    "# df = pd.read_pickle(\"schembl_summs_v4_final_with_fingerprint_tsne.pkl\")\n",
    "df = pd.read_pickle(\"schembl_summs_v4_final_with_chemberta_umap.pkl\")\n",
    "df[\"summarizations\"] = df[\"summarizations\"].apply(literal_eval)\n",
    "PandasTools.AddMoleculeColumnToFrame(df, smilesCol='smiles')\n"
   ]
  },
  {
   "cell_type": "code",
   "execution_count": 3,
   "metadata": {},
   "outputs": [
    {
     "name": "stderr",
     "output_type": "stream",
     "text": [
      "[10:10:30] unsupported number of radical electrons 4\n",
      "[10:13:31] unsupported number of radical electrons 4\n",
      "[10:13:43] unsupported number of radical electrons 4\n",
      "[10:16:01] unsupported number of radical electrons 4\n"
     ]
    }
   ],
   "source": [
    "from rdkit.Chem import Draw\n",
    "\n",
    "df['img'] = df['ROMol'].map(lambda x: Draw.MolToImage(x, size=(200, 200)))"
   ]
  },
  {
   "cell_type": "code",
   "execution_count": 4,
   "metadata": {},
   "outputs": [],
   "source": [
    "from io import BytesIO\n",
    "\n",
    "def pil_to_b64(pil):\n",
    "    with BytesIO() as buffer:\n",
    "        pil.save(buffer, format=\"PNG\")\n",
    "        encoded_image = base64.b64encode(buffer.getvalue()).decode(\"utf-8\")\n",
    "        return \"data:image/png;base64, \" + encoded_image"
   ]
  },
  {
   "cell_type": "code",
   "execution_count": 6,
   "metadata": {},
   "outputs": [],
   "source": [
    "import base64\n",
    "\n",
    "\n",
    "df['im_url'] = df['img'].map(pil_to_b64)"
   ]
  },
  {
   "cell_type": "code",
   "execution_count": 8,
   "metadata": {},
   "outputs": [],
   "source": [
    "df[[\"smiles\", \"cid\", \"summarizations\", \"cb_umap_x\", \"cb_umap_y\", \"im_url\"]].to_pickle(\"umap_chemberta_plotly.pkl\")"
   ]
  },
  {
   "cell_type": "code",
   "execution_count": 3,
   "metadata": {},
   "outputs": [],
   "source": [
    "# SCRATCH\n",
    "\n",
    "df_1 = pd.read_pickle(\"tsne_fingerprint_plotly.pkl\")\n",
    "df_2 = pd.read_pickle(\"tsne_chemberta_plotly.pkl\")\n",
    "#rename chemberta_tsne_x to cb_tsne_x\n",
    "df_2 = df_2.rename(columns={\"chemberta_tsne_x\": \"cb_tsne_x\", \"chemberta_tsne_y\": \"cb_tsne_y\"})\n",
    "df_3 = pd.read_pickle(\"umap_chemberta_plotly.pkl\")\n",
    "\n",
    "df_1 = pd.merge(df_1, df_2[[\"cid\", \"cb_tsne_x\", \"cb_tsne_y\"]], on=\"cid\")\n",
    "df_1 = pd.merge(df_1, df_3[[\"cid\", \"cb_umap_x\", \"cb_umap_y\"]], on=\"cid\")\n",
    "\n",
    "df_1.to_pickle(\"plotly_all.pkl\")"
   ]
  },
  {
   "cell_type": "code",
   "execution_count": 1,
   "metadata": {},
   "outputs": [],
   "source": [
    "import pandas as pd\n",
    "from rdkit.Chem import PandasTools\n",
    "from ast import literal_eval\n",
    "\n",
    "df_labels = pd.read_csv(\"../../results/schembl_summs_v4_gpt_cleaned_eps_0.340_diff_20030_final.csv\")\n",
    "df_labels = df_labels.drop(columns = ['Unnamed: 0'])\n",
    "\n",
    "\n",
    "df_umap_tsne = pd.read_pickle(\"plotly_all.pkl\")\n",
    "df_umap_tsne = df_umap_tsne[[\"cid\", \"fp_tsne_x\", \"fp_tsne_y\", \"cb_tsne_x\", \"cb_tsne_y\", \"cb_umap_x\", \"cb_umap_y\", \"im_url\"]]"
   ]
  },
  {
   "cell_type": "code",
   "execution_count": 2,
   "metadata": {},
   "outputs": [],
   "source": [
    "df_final = df_labels.merge(df_umap_tsne, on=\"cid\", how=\"left\")\n",
    "df_final[\"summarizations\"] = df_final[\"summarizations\"].map(literal_eval).map(set)\n",
    "df_final.to_pickle(\"schembl_summs_v4_final_cb_fp_tsne_umap.pkl\")"
   ]
  },
  {
   "cell_type": "code",
   "execution_count": 3,
   "metadata": {},
   "outputs": [],
   "source": [
    "from collections import Counter\n",
    "import pickle as pkl\n",
    "\n",
    "counter = Counter()\n",
    "for i in df_final[\"summarizations\"]:\n",
    "    counter.update(i)\n",
    "\n",
    "# create list of strings sorted in order by frequency\n",
    "sorted_terms = [x[0] for x in counter.most_common()]\n",
    "with open(\"sorted_terms.pkl\", \"wb\") as f:\n",
    "    pkl.dump(sorted_terms, f)\n"
   ]
  },
  {
   "cell_type": "code",
   "execution_count": 4,
   "metadata": {},
   "outputs": [],
   "source": [
    "# sorted_terms"
   ]
  },
  {
   "cell_type": "code",
   "execution_count": 5,
   "metadata": {},
   "outputs": [],
   "source": [
    "df_cb = pd.read_pickle(\"schembl_summs_v4_final_with_chemberta.pkl\")\n",
    "df_fp = pd.read_pickle(\"schembl_summs_v4_final_with_fingerprint.pkl\")"
   ]
  },
  {
   "cell_type": "code",
   "execution_count": 6,
   "metadata": {},
   "outputs": [
    {
     "name": "stdout",
     "output_type": "stream",
     "text": [
      "99454\n",
      "99373\n"
     ]
    }
   ],
   "source": [
    "df_features = df_labels\n",
    "df_features = df_features.merge(df_cb[[\"cid\", \"features\"]], on=\"cid\", how=\"left\")\n",
    "df_features = df_features.merge(df_fp[[\"cid\", \"fingerprint\"]], on=\"cid\", how=\"left\")\n",
    "print(len(df_features))\n",
    "# drop rows with no features\n",
    "df_features = df_features.dropna()\n",
    "print(len(df_features))\n",
    "df_features.to_pickle(\"../../results/schembl_summs_v4_gpt_cleaned_eps_0.340_diff_20030_final_with_fp_cb.pkl\")"
   ]
  },
  {
   "cell_type": "code",
   "execution_count": 7,
   "metadata": {},
   "outputs": [],
   "source": [
    "df_features[\"summarizations\"] = df_features[\"summarizations\"].map(literal_eval)"
   ]
  },
  {
   "cell_type": "code",
   "execution_count": 8,
   "metadata": {},
   "outputs": [],
   "source": [
    "import numpy as np\n"
   ]
  },
  {
   "cell_type": "code",
   "execution_count": 9,
   "metadata": {},
   "outputs": [],
   "source": [
    "df_features[\"fingerprint\"] = df_features[\"fingerprint\"].apply(np.array)"
   ]
  },
  {
   "cell_type": "code",
   "execution_count": 12,
   "metadata": {},
   "outputs": [
    {
     "data": {
      "text/plain": [
       "99373"
      ]
     },
     "execution_count": 12,
     "metadata": {},
     "output_type": "execute_result"
    }
   ],
   "source": [
    "len(df_features)"
   ]
  },
  {
   "cell_type": "code",
   "execution_count": 10,
   "metadata": {},
   "outputs": [],
   "source": [
    "df_features[[\"cid\", \"summarizations\", \"features\", \"fingerprint\"]].to_pickle(\"../../results/schembl_summs_v4_final_with_only_summs_fingerprint_and_chemberta.pkl\")"
   ]
  }
 ],
 "metadata": {
  "kernelspec": {
   "display_name": "chef",
   "language": "python",
   "name": "python3"
  },
  "language_info": {
   "codemirror_mode": {
    "name": "ipython",
    "version": 3
   },
   "file_extension": ".py",
   "mimetype": "text/x-python",
   "name": "python",
   "nbconvert_exporter": "python",
   "pygments_lexer": "ipython3",
   "version": "3.10.12"
  },
  "orig_nbformat": 4
 },
 "nbformat": 4,
 "nbformat_minor": 2
}
