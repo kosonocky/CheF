{
 "cells": [
  {
   "cell_type": "code",
   "execution_count": 21,
   "metadata": {},
   "outputs": [],
   "source": [
    "import pandas as pd\n",
    "\n",
    "df = pd.read_csv(\"./chef_v5_fp_tsne_p500.csv\")\n",
    "\n"
   ]
  },
  {
   "cell_type": "code",
   "execution_count": 22,
   "metadata": {},
   "outputs": [],
   "source": [
    "from ast import literal_eval\n",
    "df[\"summarizations\"] = df[\"summarizations\"].apply(literal_eval)\n",
    "df[\"summarizations\"] = df[\"summarizations\"].apply(set)\n",
    "df[\"cid\"] = df[\"cid\"].apply(int)\n",
    "df[\"fp_tsne_x\"] = df[\"fp_tsne_x\"].apply(float)\n",
    "df[\"fp_tsne_y\"] = df[\"fp_tsne_y\"].apply(float)"
   ]
  },
  {
   "cell_type": "code",
   "execution_count": 24,
   "metadata": {},
   "outputs": [],
   "source": [
    "df[[\"smiles\", \"cid\", \"summarizations\", \"fp_tsne_x\", \"fp_tsne_y\"]].to_json(\"./chef_v5_fp_tsne_p500.json\", orient=\"records\")"
   ]
  }
 ],
 "metadata": {
  "kernelspec": {
   "display_name": "chef",
   "language": "python",
   "name": "python3"
  },
  "language_info": {
   "codemirror_mode": {
    "name": "ipython",
    "version": 3
   },
   "file_extension": ".py",
   "mimetype": "text/x-python",
   "name": "python",
   "nbconvert_exporter": "python",
   "pygments_lexer": "ipython3",
   "version": "3.10.12"
  },
  "orig_nbformat": 4
 },
 "nbformat": 4,
 "nbformat_minor": 2
}
