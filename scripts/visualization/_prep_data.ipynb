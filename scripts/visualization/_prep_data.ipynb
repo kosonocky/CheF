{
 "cells": [
  {
   "cell_type": "code",
   "execution_count": 4,
   "metadata": {},
   "outputs": [],
   "source": [
    "import pandas as pd"
   ]
  },
  {
   "cell_type": "code",
   "execution_count": 5,
   "metadata": {},
   "outputs": [],
   "source": [
    "df_tsne = pd.read_pickle(\"_archive/schembl_summs_v4_final_cb_fp_tsne_umap.pkl\")\n",
    "df_labels = pd.read_csv(\"../../results/schembl_summs_v5_final.csv\")"
   ]
  },
  {
   "cell_type": "code",
   "execution_count": 6,
   "metadata": {},
   "outputs": [],
   "source": [
    "df_tsne = df_tsne[[\"cid\", \"fp_tsne_x\", \"fp_tsne_y\", \"cb_tsne_x\", \"cb_tsne_y\", \"cb_umap_x\", \"cb_umap_y\", \"im_url\"]]"
   ]
  },
  {
   "cell_type": "code",
   "execution_count": 7,
   "metadata": {},
   "outputs": [],
   "source": [
    "df_labels = pd.merge(df_labels, df_tsne, on=\"cid\", how=\"left\")"
   ]
  },
  {
   "cell_type": "code",
   "execution_count": 8,
   "metadata": {},
   "outputs": [],
   "source": [
    "df_labels = df_labels.dropna()"
   ]
  },
  {
   "cell_type": "code",
   "execution_count": 9,
   "metadata": {},
   "outputs": [],
   "source": [
    "df_labels.to_pickle(\"../../results/schembl_summs_v5_final_fp_cb_tsne_umap.pkl\")"
   ]
  },
  {
   "cell_type": "code",
   "execution_count": 10,
   "metadata": {},
   "outputs": [],
   "source": [
    "from ast import literal_eval\n",
    "df_labels[\"summarizations\"] = df_labels[\"summarizations\"].map(literal_eval)\n"
   ]
  },
  {
   "cell_type": "code",
   "execution_count": 11,
   "metadata": {},
   "outputs": [],
   "source": [
    "\n",
    "from collections import Counter\n",
    "# create counter of labels\n",
    "counter = Counter()\n",
    "for labels in df_labels['summarizations']:\n",
    "    counter.update(labels)\n",
    "\n",
    "# create list of most common keys\n",
    "all_labels = [label for label, _ in counter.most_common()]\n",
    "# save to file\n",
    "with open(\"../../results/all_labels.txt\", \"w\") as f:\n",
    "    for label in all_labels:\n",
    "        f.write(f\"{label}\\n\")"
   ]
  }
 ],
 "metadata": {
  "kernelspec": {
   "display_name": "chef",
   "language": "python",
   "name": "python3"
  },
  "language_info": {
   "codemirror_mode": {
    "name": "ipython",
    "version": 3
   },
   "file_extension": ".py",
   "mimetype": "text/x-python",
   "name": "python",
   "nbconvert_exporter": "python",
   "pygments_lexer": "ipython3",
   "version": "3.10.12"
  },
  "orig_nbformat": 4
 },
 "nbformat": 4,
 "nbformat_minor": 2
}
