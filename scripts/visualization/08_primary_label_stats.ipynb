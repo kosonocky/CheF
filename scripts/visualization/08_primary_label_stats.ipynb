{
 "cells": [
  {
   "cell_type": "code",
   "execution_count": 1,
   "metadata": {},
   "outputs": [],
   "source": [
    "import pandas as pd\n",
    "from ast import literal_eval\n",
    "from rdkit import DataStructs\n",
    "import numpy as np\n",
    "import matplotlib.pyplot as plt\n",
    "import seaborn as sns\n",
    "from statannotations.Annotator import Annotator\n",
    "from ast import literal_eval\n",
    "from scipy import stats"
   ]
  },
  {
   "cell_type": "code",
   "execution_count": 3,
   "metadata": {},
   "outputs": [],
   "source": [
    "df_fp = pd.read_pickle(\"../../results/schembl_summs_v5_final_fp_bitvec.pkl\")\n",
    "df_fp[\"summarizations\"] = df_fp[\"summarizations\"].apply(literal_eval)"
   ]
  },
  {
   "cell_type": "code",
   "execution_count": 4,
   "metadata": {},
   "outputs": [
    {
     "name": "stdout",
     "output_type": "stream",
     "text": [
      "null vs. graph: t-test independent samples, P_val:1.557e-114 t=-2.316e+01\n",
      "null vs. graph: t-test independent samples, P_val:2.160e-01 t=1.238e+00\n",
      "null vs. graph: t-test independent samples, P_val:7.270e-90 t=-2.078e+01\n",
      "null vs. graph: t-test independent samples, P_val:5.458e-79 t=-1.957e+01\n",
      "null vs. graph: t-test independent samples, P_val:5.065e-51 t=-1.572e+01\n",
      "null vs. graph: t-test independent samples, P_val:1.737e-47 t=-1.530e+01\n",
      "null vs. graph: t-test independent samples, P_val:6.914e-09 t=-5.849e+00\n",
      "null vs. graph: t-test independent samples, P_val:5.946e-89 t=-2.265e+01\n",
      "null vs. graph: t-test independent samples, P_val:4.062e-37 t=-1.357e+01\n",
      "null vs. graph: t-test independent samples, P_val:3.352e-04 t=-3.606e+00\n",
      "null vs. graph: t-test independent samples, P_val:9.596e-27 t=-1.123e+01\n",
      "null vs. graph: t-test independent samples, P_val:2.789e-57 t=-1.778e+01\n",
      "null vs. graph: t-test independent samples, P_val:8.838e-44 t=-1.515e+01\n",
      "null vs. graph: t-test independent samples, P_val:2.105e-18 t=-9.063e+00\n",
      "null vs. graph: t-test independent samples, P_val:1.212e-23 t=-1.056e+01\n",
      "null vs. graph: t-test independent samples, P_val:1.121e-31 t=-1.263e+01\n",
      "null vs. graph: t-test independent samples, P_val:2.346e-26 t=-1.135e+01\n",
      "null vs. graph: t-test independent samples, P_val:7.140e-17 t=-8.695e+00\n",
      "null vs. graph: t-test independent samples, P_val:3.799e-18 t=-9.091e+00\n"
     ]
    },
    {
     "name": "stderr",
     "output_type": "stream",
     "text": [
      "/var/folders/67/6sj3_z4943v4gy9hc27k5vv80000gq/T/ipykernel_68327/3181001121.py:25: RuntimeWarning: More than 20 figures have been opened. Figures created through the pyplot interface (`matplotlib.pyplot.figure`) are retained until explicitly closed and may consume too much memory. (To control this warning, see the rcParam `figure.max_open_warning`). Consider using `matplotlib.pyplot.close()`.\n",
      "  fig, ax = plt.subplots(figsize=(4, 4))\n"
     ]
    },
    {
     "name": "stdout",
     "output_type": "stream",
     "text": [
      "null vs. graph: t-test independent samples, P_val:7.644e-02 t=-1.777e+00\n",
      "null vs. graph: t-test independent samples, P_val:2.229e-17 t=-9.009e+00\n",
      "null vs. graph: t-test independent samples, P_val:3.956e-19 t=-9.669e+00\n",
      "null vs. graph: t-test independent samples, P_val:3.678e-05 t=-4.216e+00\n"
     ]
    },
    {
     "data": {
      "text/plain": [
       "<Figure size 640x480 with 0 Axes>"
      ]
     },
     "metadata": {},
     "output_type": "display_data"
    },
    {
     "data": {
      "text/plain": [
       "<Figure size 400x400 with 0 Axes>"
      ]
     },
     "metadata": {},
     "output_type": "display_data"
    },
    {
     "data": {
      "text/plain": [
       "<Figure size 400x400 with 0 Axes>"
      ]
     },
     "metadata": {},
     "output_type": "display_data"
    },
    {
     "data": {
      "text/plain": [
       "<Figure size 400x400 with 0 Axes>"
      ]
     },
     "metadata": {},
     "output_type": "display_data"
    },
    {
     "data": {
      "text/plain": [
       "<Figure size 400x400 with 0 Axes>"
      ]
     },
     "metadata": {},
     "output_type": "display_data"
    },
    {
     "data": {
      "text/plain": [
       "<Figure size 400x400 with 0 Axes>"
      ]
     },
     "metadata": {},
     "output_type": "display_data"
    },
    {
     "data": {
      "text/plain": [
       "<Figure size 400x400 with 0 Axes>"
      ]
     },
     "metadata": {},
     "output_type": "display_data"
    },
    {
     "data": {
      "text/plain": [
       "<Figure size 400x400 with 0 Axes>"
      ]
     },
     "metadata": {},
     "output_type": "display_data"
    },
    {
     "data": {
      "text/plain": [
       "<Figure size 400x400 with 0 Axes>"
      ]
     },
     "metadata": {},
     "output_type": "display_data"
    },
    {
     "data": {
      "text/plain": [
       "<Figure size 400x400 with 0 Axes>"
      ]
     },
     "metadata": {},
     "output_type": "display_data"
    },
    {
     "data": {
      "text/plain": [
       "<Figure size 400x400 with 0 Axes>"
      ]
     },
     "metadata": {},
     "output_type": "display_data"
    },
    {
     "data": {
      "text/plain": [
       "<Figure size 400x400 with 0 Axes>"
      ]
     },
     "metadata": {},
     "output_type": "display_data"
    },
    {
     "data": {
      "text/plain": [
       "<Figure size 400x400 with 0 Axes>"
      ]
     },
     "metadata": {},
     "output_type": "display_data"
    },
    {
     "data": {
      "text/plain": [
       "<Figure size 400x400 with 0 Axes>"
      ]
     },
     "metadata": {},
     "output_type": "display_data"
    },
    {
     "data": {
      "text/plain": [
       "<Figure size 400x400 with 0 Axes>"
      ]
     },
     "metadata": {},
     "output_type": "display_data"
    },
    {
     "data": {
      "text/plain": [
       "<Figure size 400x400 with 0 Axes>"
      ]
     },
     "metadata": {},
     "output_type": "display_data"
    },
    {
     "data": {
      "text/plain": [
       "<Figure size 400x400 with 0 Axes>"
      ]
     },
     "metadata": {},
     "output_type": "display_data"
    },
    {
     "data": {
      "text/plain": [
       "<Figure size 400x400 with 0 Axes>"
      ]
     },
     "metadata": {},
     "output_type": "display_data"
    },
    {
     "data": {
      "text/plain": [
       "<Figure size 400x400 with 0 Axes>"
      ]
     },
     "metadata": {},
     "output_type": "display_data"
    },
    {
     "data": {
      "text/plain": [
       "<Figure size 400x400 with 0 Axes>"
      ]
     },
     "metadata": {},
     "output_type": "display_data"
    },
    {
     "data": {
      "text/plain": [
       "<Figure size 400x400 with 0 Axes>"
      ]
     },
     "metadata": {},
     "output_type": "display_data"
    },
    {
     "data": {
      "text/plain": [
       "<Figure size 400x400 with 0 Axes>"
      ]
     },
     "metadata": {},
     "output_type": "display_data"
    },
    {
     "data": {
      "text/plain": [
       "<Figure size 400x400 with 0 Axes>"
      ]
     },
     "metadata": {},
     "output_type": "display_data"
    },
    {
     "data": {
      "image/png": "[encoded data removed]",
      "text/plain": [
       "<Figure size 400x400 with 1 Axes>"
      ]
     },
     "metadata": {},
     "output_type": "display_data"
    }
   ],
   "source": [
    "# for term in [\"antiviral\", \"nucleoside\", \"hcv\", \"electroluminescence\", \"opioid\", \"perfume\", \"cannabinoid\", \"polymer\", \"protease\", \"cb1\", \"luminescence\"]:\n",
    "# for term in [\"5-ht\", \"electroluminescence\", \"hcv\"]:\n",
    "# for term in [\"serotonin\"]:\n",
    "for term in [\"anti-microbial\", \"polymer\", \"protease\", \"crystal\", \"jak\", \"opioid\", \"antidepressant\", \"wnt\", \"egfr\", \"olefin\", \"steroid\", \"kras\", \"mtor\", \"beta-lactamase\", \"bace\", \"integrase\", \"tachykinin\", \"electrooptic\", \"ubiquitination\", \"fragrance\", \"sting\", \"sglt\", \"vitamin\"]:\n",
    "    df_term = df_fp[df_fp[\"summarizations\"].map(lambda x: any(term == word for word in x))].reset_index(drop=True)\n",
    "    df_rand = df_fp.sample(n=len(df_term), random_state=42).reset_index(drop=True)\n",
    "    fp_tanimoto = np.zeros(len(df_term))\n",
    "    fp_tanimoto_rand = np.zeros(len(df_term))\n",
    "    for i in range(len(df_term)):\n",
    "        # calculate the max bulk tanimoto similarity between the query and the other molecules\n",
    "        fp_tanimoto[i] = max(DataStructs.BulkTanimotoSimilarity(df_term[\"fingerprint\"].iloc[i], df_term.drop(i, axis=0).reset_index(drop=True)[\"fingerprint\"]))\n",
    "        fp_tanimoto_rand[i] = max(DataStructs.BulkTanimotoSimilarity(df_rand[\"fingerprint\"].iloc[i], df_rand.drop(i, axis=0).reset_index(drop=True)[\"fingerprint\"]))\n",
    "\n",
    "    fp_tanimoto_mean = np.mean(fp_tanimoto)\n",
    "    fp_tanimoto_std = np.std(fp_tanimoto)\n",
    "    fp_tanimoto_conf = 1.96 * fp_tanimoto_std / np.sqrt(len(fp_tanimoto))\n",
    "    fp_tanimoto_rand_mean = np.mean(fp_tanimoto_rand)\n",
    "    fp_tanimoto_rand_std = np.std(fp_tanimoto_rand)\n",
    "    fp_tanimoto_rand_conf = 1.96 * fp_tanimoto_rand_std / np.sqrt(len(fp_tanimoto_rand))\n",
    "\n",
    "    plt.clf()\n",
    "    plot_df = pd.DataFrame(columns=['group', 'value'])\n",
    "    plot_df = pd.concat([plot_df, pd.DataFrame({'group': 'null', 'value': fp_tanimoto_rand})])\n",
    "    plot_df = pd.concat([plot_df, pd.DataFrame({'group': 'graph', 'value': fp_tanimoto})])\n",
    "    fig, ax = plt.subplots(figsize=(4, 4))\n",
    "\n",
    "    # add first plot. Make conf interval have caps. Set confidence interval to 95% (variable)\n",
    "    sns.barplot(x='group', y='value', data=plot_df, color='white', ax=ax, palette=sns.color_palette(), dodge=False, alpha=0.6, ec='k', linewidth=1, capsize=0.1, errwidth=1.5, errcolor='k', errorbar=('ci', 95))\n",
    "\n",
    "    # remove xlabel\n",
    "    ax.set_xlabel('')\n",
    "    ax.set_ylabel(f'Max Tc')\n",
    "    # set x axis labels\n",
    "    ax.set_xticklabels([f'Random', f'{term}'], fontsize=12)\n",
    "    ax.set_ylim(0, 1)\n",
    "\n",
    "    # prep data for statistical test\n",
    "    # add statistical annotations\n",
    "    annotator = Annotator(data=plot_df, x='group', y='value', pairs = [('null', 'graph')], ax=ax)\n",
    "    # annotator.configure(test=\"t-test_ind\", text_format='simple', loc='inside', verbose=2)\n",
    "    \n",
    "    # amnotator with FDR correction / multiple test correction\n",
    "    \n",
    "\n",
    "    # line up width with means of distributions\n",
    "    annotator.apply_test()\n",
    "    annotator.annotate()\n",
    "\n",
    "\n",
    "    plt.savefig(f'tsne_primary_stat_plots/term_{term}_max_tc.png', dpi=300, bbox_inches='tight')\n",
    "\n",
    "    # write close_terms, means, and stds to file\n",
    "    with open(f'tsne_primary_stat_plots/term_{term}_max_tc.txt', 'w') as f:\n",
    "        f.write(f'Primary Term: {term}\\n')\n",
    "        f.write(f'n mols with term: {len(df_term)}\\n')\n",
    "        f.write(f'Mean: {fp_tanimoto_mean}\\n')\n",
    "        f.write(f'Std: {fp_tanimoto_std}\\n')\n",
    "        f.write(f'95% Conf: {fp_tanimoto_conf}\\n')\n",
    "        f.write(f'n random points sampled: {len(df_term)}\\n')\n",
    "        f.write(f'Random mean: {fp_tanimoto_rand_mean}\\n')\n",
    "        f.write(f'Random std: {fp_tanimoto_rand_std}\\n')\n",
    "        f.write(f'Random 95% conf: {fp_tanimoto_rand_conf}\\n')\n"
   ]
  },
  {
   "cell_type": "code",
   "execution_count": null,
   "metadata": {},
   "outputs": [],
   "source": [
    "# load all labels\n",
    "with open(\"../../results/all_labels.txt\", \"r\") as f:\n",
    "    all_labels = f.read().splitlines()"
   ]
  },
  {
   "cell_type": "code",
   "execution_count": null,
   "metadata": {},
   "outputs": [
    {
     "name": "stdout",
     "output_type": "stream",
     "text": [
      "1/1543 -- opioid\r"
     ]
    }
   ],
   "source": [
    "t_stats = []\n",
    "p_vals = []\n",
    "n_mols = []\n",
    "\n",
    "# for term in all_labels[-2:]:\n",
    "for count, term in enumerate([\"5-ht\",\"opioid\"]):\n",
    "    print(f\"{count}/{len(all_labels)} -- {term}\", end=\"\\r\")\n",
    "    df_term = df_fp[df_fp[\"summarizations\"].map(lambda x: any(term == word for word in x))].reset_index(drop=True)\n",
    "    df_rand = df_fp.sample(n=len(df_term), random_state=42).reset_index(drop=True)\n",
    "    fp_tanimoto = np.zeros(len(df_term))\n",
    "    fp_tanimoto_rand = np.zeros(len(df_term))\n",
    "    for i in range(len(df_term)):\n",
    "        # calculate the max bulk tanimoto similarity between the query and the other molecules\n",
    "        fp_tanimoto[i] = max(DataStructs.BulkTanimotoSimilarity(df_term[\"fingerprint\"].iloc[i], df_term.drop(i, axis=0).reset_index(drop=True)[\"fingerprint\"]))\n",
    "        fp_tanimoto_rand[i] = max(DataStructs.BulkTanimotoSimilarity(df_rand[\"fingerprint\"].iloc[i], df_rand.drop(i, axis=0).reset_index(drop=True)[\"fingerprint\"]))\n",
    "\n",
    "    # compute t test p value\n",
    "    t_stat, p_val = stats.ttest_ind(fp_tanimoto, fp_tanimoto_rand)\n",
    "    t_stats.append(t_stat)\n",
    "    p_vals.append(p_val)\n",
    "    n_mols.append(len(df_term))"
   ]
  },
  {
   "cell_type": "code",
   "execution_count": null,
   "metadata": {},
   "outputs": [],
   "source": [
    "df_p_values = pd.DataFrame({\"label\": all_labels[-2:], \"t_stat\": t_stats, \"p_val\": p_vals, \"n_mols\": n_mols})"
   ]
  },
  {
   "cell_type": "code",
   "execution_count": null,
   "metadata": {},
   "outputs": [],
   "source": [
    "df_p_values.to_csv(\"primary_label_t_test.csv\", index=False)"
   ]
  }
 ],
 "metadata": {
  "kernelspec": {
   "display_name": "chef",
   "language": "python",
   "name": "python3"
  },
  "language_info": {
   "codemirror_mode": {
    "name": "ipython",
    "version": 3
   },
   "file_extension": ".py",
   "mimetype": "text/x-python",
   "name": "python",
   "nbconvert_exporter": "python",
   "pygments_lexer": "ipython3",
   "version": "3.10.12"
  },
  "orig_nbformat": 4
 },
 "nbformat": 4,
 "nbformat_minor": 2
}
