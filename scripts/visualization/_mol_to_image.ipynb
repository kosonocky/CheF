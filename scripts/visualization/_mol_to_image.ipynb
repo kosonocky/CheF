{
 "cells": [
  {
   "cell_type": "code",
   "execution_count": 5,
   "metadata": {},
   "outputs": [],
   "source": [
    "import pandas as pd\n",
    "# import cairosvg\n",
    "\n",
    "from rdkit import Chem\n",
    "from rdkit.Chem import Draw\n",
    "from pathlib import Path\n",
    "from rdkit.Chem import rdCoordGen"
   ]
  },
  {
   "attachments": {},
   "cell_type": "markdown",
   "metadata": {},
   "source": [
    "Convert to png with:\n",
    "\n",
    "qlmanage -t -s 512 -o . *\n"
   ]
  },
  {
   "cell_type": "code",
   "execution_count": 8,
   "metadata": {},
   "outputs": [],
   "source": [
    "# Qeuery Molecules:\n",
    "# achiral smiles\n",
    "smiles = [\n",
    "    \"CC(C)C(C(=O)N1CCCCC1C2=NC=C(N2)C3=CC=C(C=C3)Br)NC(=O)OC\",\n",
    "    \"CC(C)[C@@H](C(=O)N1CCC[C@H]1C2=NC=C(N2)C3=CC4=C(C=C3)C=C(C=C4)C5=CC6=C(C=C5)C=C(C=C6)C7=CN=C(N7)C8CCCN8C(=O)[C@H](C(C)C)NC(=O)OC)NC(=O)OC\",\n",
    "    \"COC(=O)N[C@@H](C1CCCC1)C(=O)N2CCC[C@H]2C3=NC=C(N3)C4=CC=C(C=C4)C56CCC(CC5)(CC6)C7=CN=C(N7)[C@@H]8CCCN8C(=O)[C@H](C9CCCC9)NC(=O)OC\",\n",
    "    \"CC(C)[C@@H](C(=O)N1CCC[C@H]1C2=NC=C(N2)C3=CC=C(C=C3)C4=CC=C(C=C4)C5=CN=C(N5)[C@@H]6CCCN6C(=O)[C@H](C(C)C)NC7OCO7)NC8CNCN=C8\",\n",
    "    \"CC(C)[C@@H](C(=O)N1CCC[C@H]1C2=NC=C(N2)C3=CC4=C(C=C3)C=C(C=C4)C5=CC=C(C=C5)C6=CN=C(N6)[C@@H]7C[C@@H](CN7C(=O)[C@@H](C8=CC=CC=C8)NC(=O)OC)O)NC(=O)OC\",\n",
    "]\n",
    "\n",
    "names = [\n",
    "    \"155053338\",\n",
    "    \"59611288\",\n",
    "    \"58449549\",\n",
    "    \"70986109\",\n",
    "    \"67681736\",\n",
    "]\n",
    "\n",
    "\n",
    "\n",
    "\n",
    "for smiles, name in zip(smiles, names):\n",
    "    f = f\"{name}\"\n",
    "    m = Chem.MolFromSmiles(smiles)\n",
    "    rdCoordGen.AddCoords(m)\n",
    "    Draw.MolToFile(m, f\"mol_images/{f}.svg\")"
   ]
  },
  {
   "cell_type": "code",
   "execution_count": null,
   "metadata": {},
   "outputs": [],
   "source": []
  }
 ],
 "metadata": {
  "kernelspec": {
   "display_name": "syn_can_3",
   "language": "python",
   "name": "python3"
  },
  "language_info": {
   "codemirror_mode": {
    "name": "ipython",
    "version": 3
   },
   "file_extension": ".py",
   "mimetype": "text/x-python",
   "name": "python",
   "nbconvert_exporter": "python",
   "pygments_lexer": "ipython3",
   "version": "3.10.12"
  },
  "orig_nbformat": 4,
  "vscode": {
   "interpreter": {
    "hash": "747e1af95f149c3c50a5e3969eb9d0f3c039d9ec29f4cf12fea16c9b6b226836"
   }
  }
 },
 "nbformat": 4,
 "nbformat_minor": 2
}
