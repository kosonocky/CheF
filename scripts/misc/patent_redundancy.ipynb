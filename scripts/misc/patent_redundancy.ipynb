{
 "cells": [
  {
   "cell_type": "code",
   "execution_count": 11,
   "metadata": {},
   "outputs": [],
   "source": [
    "import pandas as pd\n",
    "from ast import literal_eval\n",
    "from collections import Counter\n",
    "\n",
    "df = pd.read_csv(\"../../results/pre_final_files/schembl_summs_v2_fixed_errors.csv\")\n",
    "df['patent_ids'] = df['patent_ids'].apply(literal_eval)"
   ]
  },
  {
   "cell_type": "code",
   "execution_count": 12,
   "metadata": {},
   "outputs": [
    {
     "name": "stdout",
     "output_type": "stream",
     "text": [
      "188167\n"
     ]
    }
   ],
   "source": [
    "# create set of all patent_ids\n",
    "patent_ids_set = set()\n",
    "for patent_ids in df['patent_ids']:\n",
    "    for patent_id in patent_ids:\n",
    "        patent_ids_set.add(patent_id)\n",
    "\n",
    "print(len(patent_ids_set))"
   ]
  },
  {
   "cell_type": "code",
   "execution_count": 18,
   "metadata": {},
   "outputs": [
    {
     "name": "stdout",
     "output_type": "stream",
     "text": [
      "306147\n"
     ]
    }
   ],
   "source": [
    "# sum lengths of patent_ids\n",
    "total_patents = 0\n",
    "for patent_ids in df['patent_ids']:\n",
    "    total_patents += len(patent_ids)\n",
    "\n",
    "print(total_patents)"
   ]
  },
  {
   "cell_type": "code",
   "execution_count": 20,
   "metadata": {},
   "outputs": [
    {
     "data": {
      "text/plain": [
       "3.933629269599245"
      ]
     },
     "execution_count": 20,
     "metadata": {},
     "output_type": "execute_result"
    }
   ],
   "source": [
    "6.4 / (total_patents / len(patent_ids_set))"
   ]
  },
  {
   "cell_type": "code",
   "execution_count": 25,
   "metadata": {},
   "outputs": [
    {
     "name": "stdout",
     "output_type": "stream",
     "text": [
      "155763\n",
      "47061\n",
      "202824\n",
      "0.6625052670775804\n",
      "2.6060501098400355\n"
     ]
    }
   ],
   "source": [
    "# count number of patent_ids containing \"US\", \"WO\", \"EP\"\n",
    "us = 0\n",
    "wo = 0\n",
    "ep = 0\n",
    "for patent_ids in df['patent_ids']:\n",
    "    for patent_id in patent_ids:\n",
    "        if \"US\" in patent_id:\n",
    "            us += 1\n",
    "        if \"WO\" in patent_id:\n",
    "            wo += 1\n",
    "        if \"EP\" in patent_id:\n",
    "            ep += 1\n",
    "\n",
    "print(us)\n",
    "print(wo)\n",
    "print(us + wo)\n",
    "print((us + wo) / total_patents)\n",
    "print((6.4 / (total_patents / len(patent_ids_set))) * ((us + wo) / total_patents))"
   ]
  }
 ],
 "metadata": {
  "kernelspec": {
   "display_name": "chef",
   "language": "python",
   "name": "python3"
  },
  "language_info": {
   "codemirror_mode": {
    "name": "ipython",
    "version": 3
   },
   "file_extension": ".py",
   "mimetype": "text/x-python",
   "name": "python",
   "nbconvert_exporter": "python",
   "pygments_lexer": "ipython3",
   "version": "3.10.12"
  }
 },
 "nbformat": 4,
 "nbformat_minor": 2
}
